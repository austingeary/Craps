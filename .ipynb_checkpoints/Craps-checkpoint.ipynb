{
 "cells": [
  {
   "cell_type": "code",
   "execution_count": 1,
   "metadata": {},
   "outputs": [],
   "source": [
    "#Originally a method of class Craps. Since this method was not making direct changes to the Craps object,\n",
    "# I decided it would make more sense as a separate function, so that it could be reused for other casino games.\n",
    "def roll():\n",
    "    r1 = random.randint(1, 6)\n",
    "    r2 = random.randint(1, 6)\n",
    "    total = r1 + r2\n",
    "    print(f'The current roll is {total}')\n",
    "    return total"
   ]
  },
  {
   "cell_type": "code",
   "execution_count": 2,
   "metadata": {},
   "outputs": [],
   "source": [
    "import random\n",
    "\n",
    "class Craps:\n",
    "    \n",
    "    def __init__(self, player_name, money):\n",
    "        self.player_name = player_name\n",
    "        self.money = money\n",
    "        \n",
    "    def play(self, wager):\n",
    "        if self.money < wager:\n",
    "            print(\"Get a job! You don't have enough money to keep betting!\")\n",
    "        else:\n",
    "            print(f'Welcome {self.player_name}! Starting craps game at {self.money}, wagering {wager}.')\n",
    "            og_roll = roll()\n",
    "            c_roll = og_roll\n",
    "            if not self.game_over(wager, c_roll, og_roll, 1):\n",
    "                gameov = False\n",
    "                while not gameov:\n",
    "                    c_roll = roll()\n",
    "                    if self.game_over(wager, c_roll, og_roll, 2):\n",
    "                        gameov = True\n",
    "        \n",
    "    def game_over(self, wager, c_roll, og_roll, round):\n",
    "        if self.is_lost(c_roll, round):\n",
    "            self.money -= wager\n",
    "            print(f'Lost! Balance is now {self.money}.')\n",
    "            return True\n",
    "        elif self.is_won(c_roll, og_roll, round):\n",
    "            self.money += wager\n",
    "            print(f'Won! Balance is now {self.money}.')\n",
    "            return True\n",
    "        return False\n",
    "    \n",
    "    def is_lost(self, c_roll, round):\n",
    "        if round == 1:\n",
    "            if c_roll == 2 or c_roll == 3 or c_roll == 12:\n",
    "                return True\n",
    "        if round == 2:\n",
    "            if c_roll == 7:\n",
    "                return True\n",
    "        return False\n",
    "        \n",
    "    def is_won(self, c_roll, og_roll, round):\n",
    "        if round == 1:\n",
    "            if c_roll == 7 or c_roll == 11:\n",
    "                return True\n",
    "        if round == 2:\n",
    "            if c_roll == og_roll:\n",
    "                return True\n",
    "        return False"
   ]
  },
  {
   "cell_type": "code",
   "execution_count": 3,
   "metadata": {},
   "outputs": [],
   "source": [
    "game = Craps(player_name='Austin', money=1000)"
   ]
  },
  {
   "cell_type": "code",
   "execution_count": 149,
   "metadata": {},
   "outputs": [
    {
     "name": "stdout",
     "output_type": "stream",
     "text": [
      "Get a job! You don't have enough money to keep betting!\n"
     ]
    }
   ],
   "source": [
    "game.play(50)"
   ]
  }
 ],
 "metadata": {
  "kernelspec": {
   "display_name": "Python 3",
   "language": "python",
   "name": "python3"
  },
  "language_info": {
   "codemirror_mode": {
    "name": "ipython",
    "version": 3
   },
   "file_extension": ".py",
   "mimetype": "text/x-python",
   "name": "python",
   "nbconvert_exporter": "python",
   "pygments_lexer": "ipython3",
   "version": "3.7.4"
  }
 },
 "nbformat": 4,
 "nbformat_minor": 2
}
