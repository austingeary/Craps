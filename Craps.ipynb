{
 "cells": [
  {
   "cell_type": "markdown",
   "metadata": {},
   "source": [
    "### Dunder Data Courses Material\n",
    "\n",
    "<span style=\"color:green\">Here is a simplified game of craps using a single Python class. The basic game of craps is as follows:</span> \n",
    "\n",
    "1. There are two stages to the game. \n",
    "1. You make a wager\n",
    "1. If you roll a 2, 3 or 12 you lose and the game ends. If you roll a 7 or 11 you win and the game ends.\n",
    "1. If you roll anything else (4,5,6,8,9,10) then the game continues to the second stage.\n",
    "1. You continue rolling until you roll your original number from the first stage or a 7.\n",
    "1. If you roll your original number you win and the game ends. If your roll a 7 you lose and the game ends.\n",
    "\n",
    "\n",
    "* Write a **`Craps`** class who's constructor has two parameters **player name**, and **starting money**. \n",
    "* Create a method **`play`** that accepts a single parameter **`wager`** and plays one complete game of craps (until the wager is won or lost). \n",
    "* Print out each roll as it happens and update the money at game completion. \n",
    "* Print out the amount of money the player has at both the start and end of each game\n",
    "* Do not put all your code in the **`play`** method. Think about using object composition with the **`Dice`** class from above.\n",
    "\n",
    "Break up logical pieces of code into their own methods. A broad general rule (not meant to be strictly followed) is to keep methods under 10 lines of code. The solution has 4 methods (other than **`__init__`**) that each run a very specific piece of logic. You have lots of flexibility to design your class however you want.\n",
    "\n",
    "Once you create your Craps class, instantiate it and play it until you double up or go broke."
   ]
  },
  {
   "cell_type": "code",
   "execution_count": 1,
   "metadata": {},
   "outputs": [],
   "source": [
    "import random as r\n",
    "\n",
    "class Craps:\n",
    "    \n",
    "    def __init__(self, player_name, starting_money):\n",
    "        self.player_name = player_name\n",
    "        self.starting_money = starting_money\n",
    "        \n",
    "    def play(self, wager):\n",
    "        if self.starting_money < wager:\n",
    "            print(f'Get a job! You don''t have enough money to keep betting!')\n",
    "        else:\n",
    "            print(f'Welcome {self.player_name}! Starting craps game at {self.starting_money}, wagering {wager}.')\n",
    "            og_roll = self.roll()\n",
    "            c_roll = og_roll\n",
    "            if not self.game_over(wager, c_roll, og_roll, 1):\n",
    "                gameov = False\n",
    "                while not gameov:\n",
    "                    c_roll = self.roll()\n",
    "                    if self.game_over(wager, c_roll, og_roll, 2):\n",
    "                        gameov = True\n",
    "    \n",
    "    def roll(self):\n",
    "        r1 = r.randint(1,6)\n",
    "        r2 = r.randint(1,6)\n",
    "        total = r1 + r2\n",
    "        print(f'The current roll is {total}')\n",
    "        return total\n",
    "        \n",
    "    def game_over(self, wager, c_roll, og_roll, round):\n",
    "        if self.is_lost(c_roll, round):\n",
    "            self.starting_money -= wager\n",
    "            print(f'Lost! Balance is now {self.starting_money}.')\n",
    "            return True\n",
    "        elif self.is_won(c_roll, og_roll, round):\n",
    "            self.starting_money += wager\n",
    "            print(f'Won! Balance is now {self.starting_money}.')\n",
    "            return True\n",
    "        return False\n",
    "    \n",
    "    def is_lost(self, c_roll, round):\n",
    "        if round == 1:\n",
    "            if c_roll == 2 or c_roll == 3 or c_roll == 12:\n",
    "                return True\n",
    "        if round == 2:\n",
    "            if c_roll == 7:\n",
    "                return True\n",
    "        return False\n",
    "        \n",
    "    def is_won(self, c_roll, og_roll, round):\n",
    "        if round == 1:\n",
    "            if c_roll == 7 or c_roll == 11:\n",
    "                return True\n",
    "        if round == 2:\n",
    "            if c_roll == og_roll:\n",
    "                return True\n",
    "        return False"
   ]
  },
  {
   "cell_type": "code",
   "execution_count": 2,
   "metadata": {},
   "outputs": [],
   "source": [
    "game = Craps(player_name='Austin', starting_money=1000)"
   ]
  },
  {
   "cell_type": "code",
   "execution_count": 3,
   "metadata": {},
   "outputs": [
    {
     "name": "stdout",
     "output_type": "stream",
     "text": [
      "Welcome Austin! Starting craps game at 1000, wagering 25.\n",
      "The current roll is 9\n",
      "The current roll is 6\n",
      "The current roll is 6\n",
      "The current roll is 3\n",
      "The current roll is 10\n",
      "The current roll is 6\n",
      "The current roll is 3\n",
      "The current roll is 9\n",
      "Won! Balance is now 1025.\n"
     ]
    }
   ],
   "source": [
    "game.play(25)"
   ]
  }
 ],
 "metadata": {
  "kernelspec": {
   "display_name": "Python 3",
   "language": "python",
   "name": "python3"
  },
  "language_info": {
   "codemirror_mode": {
    "name": "ipython",
    "version": 3
   },
   "file_extension": ".py",
   "mimetype": "text/x-python",
   "name": "python",
   "nbconvert_exporter": "python",
   "pygments_lexer": "ipython3",
   "version": "3.7.5"
  }
 },
 "nbformat": 4,
 "nbformat_minor": 2
}
